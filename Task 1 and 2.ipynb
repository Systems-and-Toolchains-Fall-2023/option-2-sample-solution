{
 "cells": [
  {
   "cell_type": "markdown",
   "id": "8dcb69a3",
   "metadata": {},
   "source": [
    "# Task 1 Start "
   ]
  },
  {
   "cell_type": "markdown",
   "id": "74812292",
   "metadata": {},
   "source": [
    "### Start the Spark Context"
   ]
  },
  {
   "cell_type": "code",
   "execution_count": 1,
   "id": "390104c3",
   "metadata": {},
   "outputs": [
    {
     "name": "stderr",
     "output_type": "stream",
     "text": [
      "C:\\Spark\\python\\pyspark\\sql\\context.py:112: FutureWarning: Deprecated in 3.0.0. Use SparkSession.builder.getOrCreate() instead.\n",
      "  warnings.warn(\n"
     ]
    }
   ],
   "source": [
    "# Uncomment the following lines if you are using Windows!\n",
    "import findspark\n",
    "findspark.init()\n",
    "findspark.find()\n",
    "\n",
    "import pyspark\n",
    "\n",
    "from pyspark.sql import SparkSession\n",
    "from pyspark import SparkContext, SQLContext\n",
    "\n",
    "appName = \"MQTT Dataset\"\n",
    "master = \"local\"\n",
    "\n",
    "# Create Configuration object for Spark.\n",
    "conf = pyspark.SparkConf()\\\n",
    "    .set('spark.driver.host','127.0.0.1')\\\n",
    "    .setAppName(appName)\\\n",
    "    .setMaster(master)\n",
    "\n",
    "# Create Spark Context with the new configurations rather than relying on the default one\n",
    "sc = SparkContext.getOrCreate(conf=conf)\n",
    "\n",
    "# You need to create SQL Context to conduct some database operations like what we will see later.\n",
    "sqlContext = SQLContext(sc)\n",
    "\n",
    "# If you have SQL context, you create the session from the Spark Context\n",
    "spark = sqlContext.sparkSession.builder.getOrCreate()"
   ]
  },
  {
   "cell_type": "markdown",
   "id": "b61f6a1b",
   "metadata": {},
   "source": [
    "### Read in the datasets and merge. Added a Original_Dataset column to distinguish data.  \n",
    "\n",
    "#### Note: Using the reduced dataset."
   ]
  },
  {
   "cell_type": "markdown",
   "id": "4a96c831",
   "metadata": {},
   "source": [
    "### Defining the column names ourselves so we can clean out periods and anything else we want."
   ]
  },
  {
   "cell_type": "code",
   "execution_count": 2,
   "id": "a4928544",
   "metadata": {},
   "outputs": [],
   "source": [
    "col_names = ['tcp_flags','tcp_time_delta','tcp_len','mqtt_conack_flags','mqtt_conack_flags_reserved',\n",
    "             'mqtt_conack_flags_sp','mqtt_conack_val','mqtt_conflag_cleansess','mqtt_conflag_passwd',\n",
    "             'mqtt_conflag_qos','mqtt_conflag_reserved','mqtt_conflag_retain','mqtt_conflag_uname',\n",
    "             'mqtt_conflag_willflag','mqtt_conflags','mqtt_dupflag','mqtt_hdrflags','mqtt_kalive',\n",
    "             'mqtt_len','mqtt_msg','mqtt_msgid','mqtt_msgtype','mqtt_proto_len','mqtt_protoname',\n",
    "             'mqtt_qos','mqtt_retain','mqtt_sub_qos','mqtt_suback_qos','mqtt_ver','mqtt_willmsg',\n",
    "             'mqtt_willmsg_len','mqtt_willtopic','mqtt_willtopic_len','target']\n",
    "\n",
    "\n",
    "\n"
   ]
  },
  {
   "cell_type": "code",
   "execution_count": 4,
   "id": "5fa1276e",
   "metadata": {
    "scrolled": true
   },
   "outputs": [
    {
     "name": "stderr",
     "output_type": "stream",
     "text": [
      "23/10/26 23:35:03 WARN SparkStringUtils: Truncated the string representation of a plan since it was too large. This behavior can be adjusted by setting 'spark.sql.debug.maxToStringFields'.\n"
     ]
    },
    {
     "name": "stdout",
     "output_type": "stream",
     "text": [
      "-RECORD 0------------------------------------------\n",
      " tcp_flags                  | 0x00000018           \n",
      " tcp_time_delta             | 0.998867             \n",
      " tcp_len                    | 10                   \n",
      " mqtt_conack_flags          | 0                    \n",
      " mqtt_conack_flags_reserved | 0.0                  \n",
      " mqtt_conack_flags_sp       | 0.0                  \n",
      " mqtt_conack_val            | 0.0                  \n",
      " mqtt_conflag_cleansess     | 0.0                  \n",
      " mqtt_conflag_passwd        | 0.0                  \n",
      " mqtt_conflag_qos           | 0.0                  \n",
      " mqtt_conflag_reserved      | 0.0                  \n",
      " mqtt_conflag_retain        | 0.0                  \n",
      " mqtt_conflag_uname         | 0.0                  \n",
      " mqtt_conflag_willflag      | 0.0                  \n",
      " mqtt_conflags              | 0                    \n",
      " mqtt_dupflag               | 0.0                  \n",
      " mqtt_hdrflags              | 0x00000030           \n",
      " mqtt_kalive                | 0.0                  \n",
      " mqtt_len                   | 8.0                  \n",
      " mqtt_msg                   | 32                   \n",
      " mqtt_msgid                 | 0.0                  \n",
      " mqtt_msgtype               | 3.0                  \n",
      " mqtt_proto_len             | 0.0                  \n",
      " mqtt_protoname             | 0                    \n",
      " mqtt_qos                   | 0.0                  \n",
      " mqtt_retain                | 0.0                  \n",
      " mqtt_sub_qos               | 0.0                  \n",
      " mqtt_suback_qos            | 0.0                  \n",
      " mqtt_ver                   | 0.0                  \n",
      " mqtt_willmsg               | 0.0                  \n",
      " mqtt_willmsg_len           | 0.0                  \n",
      " mqtt_willtopic             | 0.0                  \n",
      " mqtt_willtopic_len         | 0.0                  \n",
      " target                     | legitimate           \n",
      " Original_Dataset           | train                \n",
      "-RECORD 1------------------------------------------\n",
      " tcp_flags                  | 0x00000010           \n",
      " tcp_time_delta             | 6.7E-5               \n",
      " tcp_len                    | 1460                 \n",
      " mqtt_conack_flags          | 0                    \n",
      " mqtt_conack_flags_reserved | 0.0                  \n",
      " mqtt_conack_flags_sp       | 0.0                  \n",
      " mqtt_conack_val            | 0.0                  \n",
      " mqtt_conflag_cleansess     | 0.0                  \n",
      " mqtt_conflag_passwd        | 0.0                  \n",
      " mqtt_conflag_qos           | 0.0                  \n",
      " mqtt_conflag_reserved      | 0.0                  \n",
      " mqtt_conflag_retain        | 0.0                  \n",
      " mqtt_conflag_uname         | 0.0                  \n",
      " mqtt_conflag_willflag      | 0.0                  \n",
      " mqtt_conflags              | 0                    \n",
      " mqtt_dupflag               | 0.0                  \n",
      " mqtt_hdrflags              | 0x00000032           \n",
      " mqtt_kalive                | 0.0                  \n",
      " mqtt_len                   | 169.0                \n",
      " mqtt_msg                   | 63616539436661446... \n",
      " mqtt_msgid                 | 2714.0               \n",
      " mqtt_msgtype               | 3.0                  \n",
      " mqtt_proto_len             | 0.0                  \n",
      " mqtt_protoname             | 0                    \n",
      " mqtt_qos                   | 1.0                  \n",
      " mqtt_retain                | 0.0                  \n",
      " mqtt_sub_qos               | 0.0                  \n",
      " mqtt_suback_qos            | 0.0                  \n",
      " mqtt_ver                   | 0.0                  \n",
      " mqtt_willmsg               | 0.0                  \n",
      " mqtt_willmsg_len           | 0.0                  \n",
      " mqtt_willtopic             | 0.0                  \n",
      " mqtt_willtopic_len         | 0.0                  \n",
      " target                     | dos                  \n",
      " Original_Dataset           | train                \n",
      "-RECORD 2------------------------------------------\n",
      " tcp_flags                  | 0x00000010           \n",
      " tcp_time_delta             | 5.8E-5               \n",
      " tcp_len                    | 1460                 \n",
      " mqtt_conack_flags          | 0                    \n",
      " mqtt_conack_flags_reserved | 0.0                  \n",
      " mqtt_conack_flags_sp       | 0.0                  \n",
      " mqtt_conack_val            | 0.0                  \n",
      " mqtt_conflag_cleansess     | 0.0                  \n",
      " mqtt_conflag_passwd        | 0.0                  \n",
      " mqtt_conflag_qos           | 0.0                  \n",
      " mqtt_conflag_reserved      | 0.0                  \n",
      " mqtt_conflag_retain        | 0.0                  \n",
      " mqtt_conflag_uname         | 0.0                  \n",
      " mqtt_conflag_willflag      | 0.0                  \n",
      " mqtt_conflags              | 0                    \n",
      " mqtt_dupflag               | 0.0                  \n",
      " mqtt_hdrflags              | 0x00000032           \n",
      " mqtt_kalive                | 0.0                  \n",
      " mqtt_len                   | 163.0                \n",
      " mqtt_msg                   | 42326461413943334... \n",
      " mqtt_msgid                 | 1548.0               \n",
      " mqtt_msgtype               | 3.0                  \n",
      " mqtt_proto_len             | 0.0                  \n",
      " mqtt_protoname             | 0                    \n",
      " mqtt_qos                   | 1.0                  \n",
      " mqtt_retain                | 0.0                  \n",
      " mqtt_sub_qos               | 0.0                  \n",
      " mqtt_suback_qos            | 0.0                  \n",
      " mqtt_ver                   | 0.0                  \n",
      " mqtt_willmsg               | 0.0                  \n",
      " mqtt_willmsg_len           | 0.0                  \n",
      " mqtt_willtopic             | 0.0                  \n",
      " mqtt_willtopic_len         | 0.0                  \n",
      " target                     | dos                  \n",
      " Original_Dataset           | train                \n",
      "-RECORD 3------------------------------------------\n",
      " tcp_flags                  | 0x00000018           \n",
      " tcp_time_delta             | 2.27E-4              \n",
      " tcp_len                    | 10                   \n",
      " mqtt_conack_flags          | 0                    \n",
      " mqtt_conack_flags_reserved | 0.0                  \n",
      " mqtt_conack_flags_sp       | 0.0                  \n",
      " mqtt_conack_val            | 0.0                  \n",
      " mqtt_conflag_cleansess     | 0.0                  \n",
      " mqtt_conflag_passwd        | 0.0                  \n",
      " mqtt_conflag_qos           | 0.0                  \n",
      " mqtt_conflag_reserved      | 0.0                  \n",
      " mqtt_conflag_retain        | 0.0                  \n",
      " mqtt_conflag_uname         | 0.0                  \n",
      " mqtt_conflag_willflag      | 0.0                  \n",
      " mqtt_conflags              | 0                    \n",
      " mqtt_dupflag               | 0.0                  \n",
      " mqtt_hdrflags              | 0x00000030           \n",
      " mqtt_kalive                | 0.0                  \n",
      " mqtt_len                   | 8.0                  \n",
      " mqtt_msg                   | 32                   \n",
      " mqtt_msgid                 | 0.0                  \n",
      " mqtt_msgtype               | 3.0                  \n",
      " mqtt_proto_len             | 0.0                  \n",
      " mqtt_protoname             | 0                    \n",
      " mqtt_qos                   | 0.0                  \n",
      " mqtt_retain                | 0.0                  \n",
      " mqtt_sub_qos               | 0.0                  \n",
      " mqtt_suback_qos            | 0.0                  \n",
      " mqtt_ver                   | 0.0                  \n",
      " mqtt_willmsg               | 0.0                  \n",
      " mqtt_willmsg_len           | 0.0                  \n",
      " mqtt_willtopic             | 0.0                  \n",
      " mqtt_willtopic_len         | 0.0                  \n",
      " target                     | legitimate           \n",
      " Original_Dataset           | train                \n",
      "-RECORD 4------------------------------------------\n",
      " tcp_flags                  | 0x00000018           \n",
      " tcp_time_delta             | 2.36E-4              \n",
      " tcp_len                    | 16                   \n",
      " mqtt_conack_flags          | 0                    \n",
      " mqtt_conack_flags_reserved | 0.0                  \n",
      " mqtt_conack_flags_sp       | 0.0                  \n",
      " mqtt_conack_val            | 0.0                  \n",
      " mqtt_conflag_cleansess     | 0.0                  \n",
      " mqtt_conflag_passwd        | 0.0                  \n",
      " mqtt_conflag_qos           | 0.0                  \n",
      " mqtt_conflag_reserved      | 0.0                  \n",
      " mqtt_conflag_retain        | 0.0                  \n",
      " mqtt_conflag_uname         | 0.0                  \n",
      " mqtt_conflag_willflag      | 0.0                  \n",
      " mqtt_conflags              | 0                    \n",
      " mqtt_dupflag               | 0.0                  \n",
      " mqtt_hdrflags              | 0x00000040           \n",
      " mqtt_kalive                | 0.0                  \n",
      " mqtt_len                   | 2.0                  \n",
      " mqtt_msg                   | 0                    \n",
      " mqtt_msgid                 | 2800.0               \n",
      " mqtt_msgtype               | 4.0                  \n",
      " mqtt_proto_len             | 0.0                  \n",
      " mqtt_protoname             | 0                    \n",
      " mqtt_qos                   | 0.0                  \n",
      " mqtt_retain                | 0.0                  \n",
      " mqtt_sub_qos               | 0.0                  \n",
      " mqtt_suback_qos            | 0.0                  \n",
      " mqtt_ver                   | 0.0                  \n",
      " mqtt_willmsg               | 0.0                  \n",
      " mqtt_willmsg_len           | 0.0                  \n",
      " mqtt_willtopic             | 0.0                  \n",
      " mqtt_willtopic_len         | 0.0                  \n",
      " target                     | dos                  \n",
      " Original_Dataset           | train                \n",
      "only showing top 5 rows\n",
      "\n"
     ]
    }
   ],
   "source": [
    "from pyspark.sql.functions import lit\n",
    "\n",
    "# Read the first dataset and add a constant column with label \"test\"\n",
    "df_train = spark.read.csv(\"data/train70_reduced.csv\", header=True, inferSchema=True).toDF(*col_names)\n",
    "df_train = df_train.withColumn(\"Original_Dataset\", lit(\"train\"))\n",
    "\n",
    "# Read the second dataset and add a constant column with label \"train\"\n",
    "df_test = spark.read.csv(\"data/test30_reduced.csv\", header=True, inferSchema=True).toDF(*col_names)\n",
    "df_test = df_test.withColumn(\"Original_Dataset\", lit(\"test\"))\n",
    "\n",
    "\n",
    "merged_df = df_train.union(df_test)\n",
    "merged_df.show(1, vertical=True)"
   ]
  },
  {
   "cell_type": "code",
   "execution_count": 5,
   "id": "39e38db0",
   "metadata": {},
   "outputs": [
    {
     "name": "stdout",
     "output_type": "stream",
     "text": [
      "+----------------+------+\n",
      "|Original_Dataset| count|\n",
      "+----------------+------+\n",
      "|           train|231646|\n",
      "|            test| 99290|\n",
      "+----------------+------+\n",
      "\n"
     ]
    }
   ],
   "source": [
    "merged_df.groupby(\"Original_Dataset\").count().show()"
   ]
  },
  {
   "cell_type": "markdown",
   "id": "b90b802f",
   "metadata": {},
   "source": [
    "### Creat table on Postgress in Schema with the name \"mqtt\"\n",
    "#### Note: Change Postgres password to your own on system password to run."
   ]
  },
  {
   "cell_type": "code",
   "execution_count": 7,
   "id": "349a566a",
   "metadata": {
    "scrolled": false
   },
   "outputs": [
    {
     "name": "stderr",
     "output_type": "stream",
     "text": [
      "                                                                                \r"
     ]
    }
   ],
   "source": [
    "db_properties={}\n",
    "#update your db username\n",
    "db_properties['username']=\"postgres\"\n",
    "#update your db password\n",
    "db_properties['password']=\"\"\n",
    "#make sure you got the right port number here\n",
    "db_properties['url']= \"jdbc:postgresql://localhost:5432/postgres\"\n",
    "#make sure you had the Postgres JAR file in the right location\n",
    "db_properties['driver']=\"org.postgresql.Driver\"\n",
    "db_properties['table']= \"mqtt\"\n",
    "\n",
    "\n",
    "merged_df.write.format(\"jdbc\")\\\n",
    ".mode(\"overwrite\")\\\n",
    ".option(\"url\", db_properties['url'])\\\n",
    ".option(\"dbtable\", db_properties['table'])\\\n",
    ".option(\"user\", db_properties['username'])\\\n",
    ".option(\"password\", db_properties['password'])\\\n",
    ".option(\"Driver\", db_properties['driver'])\\\n",
    ".save()"
   ]
  },
  {
   "cell_type": "code",
   "execution_count": 8,
   "id": "d06d7c7d",
   "metadata": {},
   "outputs": [
    {
     "name": "stdout",
     "output_type": "stream",
     "text": [
      "-RECORD 0--------------------------------\n",
      " tcp_flags                  | 0x00000018 \n",
      " tcp_time_delta             | 0.998867   \n",
      " tcp_len                    | 10         \n",
      " mqtt_conack_flags          | 0          \n",
      " mqtt_conack_flags_reserved | 0.0        \n",
      " mqtt_conack_flags_sp       | 0.0        \n",
      " mqtt_conack_val            | 0.0        \n",
      " mqtt_conflag_cleansess     | 0.0        \n",
      " mqtt_conflag_passwd        | 0.0        \n",
      " mqtt_conflag_qos           | 0.0        \n",
      " mqtt_conflag_reserved      | 0.0        \n",
      " mqtt_conflag_retain        | 0.0        \n",
      " mqtt_conflag_uname         | 0.0        \n",
      " mqtt_conflag_willflag      | 0.0        \n",
      " mqtt_conflags              | 0          \n",
      " mqtt_dupflag               | 0.0        \n",
      " mqtt_hdrflags              | 0x00000030 \n",
      " mqtt_kalive                | 0.0        \n",
      " mqtt_len                   | 8.0        \n",
      " mqtt_msg                   | 32         \n",
      " mqtt_msgid                 | 0.0        \n",
      " mqtt_msgtype               | 3.0        \n",
      " mqtt_proto_len             | 0.0        \n",
      " mqtt_protoname             | 0          \n",
      " mqtt_qos                   | 0.0        \n",
      " mqtt_retain                | 0.0        \n",
      " mqtt_sub_qos               | 0.0        \n",
      " mqtt_suback_qos            | 0.0        \n",
      " mqtt_ver                   | 0.0        \n",
      " mqtt_willmsg               | 0.0        \n",
      " mqtt_willmsg_len           | 0.0        \n",
      " mqtt_willtopic             | 0.0        \n",
      " mqtt_willtopic_len         | 0.0        \n",
      " target                     | legitimate \n",
      " Original_Dataset           | train      \n",
      "only showing top 1 row\n",
      "\n"
     ]
    },
    {
     "name": "stderr",
     "output_type": "stream",
     "text": [
      "\r\n",
      "[Stage 9:>                                                          (0 + 1) / 1]\r\n",
      "\r\n",
      "                                                                                \r"
     ]
    }
   ],
   "source": [
    "df_read = sqlContext.read.format(\"jdbc\")\\\n",
    "    .option(\"url\", db_properties['url'])\\\n",
    "    .option(\"dbtable\", db_properties['table'])\\\n",
    "    .option(\"user\", db_properties['username'])\\\n",
    "    .option(\"password\", db_properties['password'])\\\n",
    "    .option(\"Driver\", db_properties['driver'])\\\n",
    "    .load()\n",
    "\n",
    "df_read.show(1, vertical=True)"
   ]
  },
  {
   "cell_type": "code",
   "execution_count": null,
   "id": "acfad6aa",
   "metadata": {},
   "outputs": [],
   "source": []
  },
  {
   "cell_type": "markdown",
   "id": "9ea40bd6",
   "metadata": {},
   "source": [
    "# Task II Start "
   ]
  },
  {
   "cell_type": "markdown",
   "id": "54eddbd3",
   "metadata": {},
   "source": [
    "# Part II Question 1\n",
    "### What is the average length of an MQTT message captured in the training dataset?"
   ]
  },
  {
   "cell_type": "code",
   "execution_count": 9,
   "id": "68b634b2",
   "metadata": {},
   "outputs": [
    {
     "data": {
      "text/plain": [
       "[('tcp_flags', 'string'),\n",
       " ('tcp_time_delta', 'double'),\n",
       " ('tcp_len', 'int'),\n",
       " ('mqtt_conack_flags', 'string'),\n",
       " ('mqtt_conack_flags_reserved', 'double'),\n",
       " ('mqtt_conack_flags_sp', 'double'),\n",
       " ('mqtt_conack_val', 'double'),\n",
       " ('mqtt_conflag_cleansess', 'double'),\n",
       " ('mqtt_conflag_passwd', 'double'),\n",
       " ('mqtt_conflag_qos', 'double'),\n",
       " ('mqtt_conflag_reserved', 'double'),\n",
       " ('mqtt_conflag_retain', 'double'),\n",
       " ('mqtt_conflag_uname', 'double'),\n",
       " ('mqtt_conflag_willflag', 'double'),\n",
       " ('mqtt_conflags', 'string'),\n",
       " ('mqtt_dupflag', 'double'),\n",
       " ('mqtt_hdrflags', 'string'),\n",
       " ('mqtt_kalive', 'double'),\n",
       " ('mqtt_len', 'double'),\n",
       " ('mqtt_msg', 'string'),\n",
       " ('mqtt_msgid', 'double'),\n",
       " ('mqtt_msgtype', 'double'),\n",
       " ('mqtt_proto_len', 'double'),\n",
       " ('mqtt_protoname', 'string'),\n",
       " ('mqtt_qos', 'double'),\n",
       " ('mqtt_retain', 'double'),\n",
       " ('mqtt_sub_qos', 'double'),\n",
       " ('mqtt_suback_qos', 'double'),\n",
       " ('mqtt_ver', 'double'),\n",
       " ('mqtt_willmsg', 'double'),\n",
       " ('mqtt_willmsg_len', 'double'),\n",
       " ('mqtt_willtopic', 'double'),\n",
       " ('mqtt_willtopic_len', 'double'),\n",
       " ('target', 'string'),\n",
       " ('Original_Dataset', 'string')]"
      ]
     },
     "execution_count": 9,
     "metadata": {},
     "output_type": "execute_result"
    }
   ],
   "source": [
    "df_read.dtypes"
   ]
  },
  {
   "cell_type": "code",
   "execution_count": 10,
   "id": "6919b116",
   "metadata": {},
   "outputs": [
    {
     "name": "stdout",
     "output_type": "stream",
     "text": [
      "+-------+------------------+\n",
      "|summary|          mqtt_len|\n",
      "+-------+------------------+\n",
      "|   mean|31.435725201384873|\n",
      "+-------+------------------+\n",
      "\n"
     ]
    }
   ],
   "source": [
    "from pyspark.sql.functions import col\n",
    "train_data = df_read.where(col('Original_Dataset') == 'train')\n",
    "mean_mqtt_len_train = train_data.select(col('mqtt_len')).summary('mean')\n",
    "mean_mqtt_len_train.show()"
   ]
  },
  {
   "cell_type": "markdown",
   "id": "20650b58",
   "metadata": {},
   "source": [
    "# Part II Answer 1: The average length of mqtt messages in the train dataset is ~31.436"
   ]
  },
  {
   "cell_type": "markdown",
   "id": "5ecb7cf3",
   "metadata": {},
   "source": [
    "# Part II Question 2\n",
    "### For each target value, what is the average length of the TCP message? (Conduct this process programmatically and don’t hardcode any of the target values in your command)"
   ]
  },
  {
   "cell_type": "code",
   "execution_count": 11,
   "id": "35a72517",
   "metadata": {},
   "outputs": [
    {
     "name": "stdout",
     "output_type": "stream",
     "text": [
      "+----------+\n",
      "|    target|\n",
      "+----------+\n",
      "|   slowite|\n",
      "|bruteforce|\n",
      "|     flood|\n",
      "| malformed|\n",
      "|       dos|\n",
      "|legitimate|\n",
      "+----------+\n",
      "\n"
     ]
    }
   ],
   "source": [
    "df_read.select('target').distinct().show()"
   ]
  },
  {
   "cell_type": "code",
   "execution_count": 12,
   "id": "c85f90e0",
   "metadata": {},
   "outputs": [
    {
     "name": "stdout",
     "output_type": "stream",
     "text": [
      "+----------+------------------+\n",
      "|    target|     avg(mqtt_len)|\n",
      "+----------+------------------+\n",
      "|   slowite|3.5331449684851117|\n",
      "|bruteforce|2.9956554720364115|\n",
      "|     flood| 7.491027732463295|\n",
      "| malformed| 6.263181984621018|\n",
      "|       dos| 71.13934256294488|\n",
      "|legitimate| 6.515196750935254|\n",
      "+----------+------------------+\n",
      "\n"
     ]
    }
   ],
   "source": [
    "from pyspark.sql.functions import avg\n",
    "avg_mqtt_len_by_target = df_read.groupBy('target').agg(avg('mqtt_len'))\n",
    "avg_mqtt_len_by_target.show()\n"
   ]
  },
  {
   "cell_type": "markdown",
   "id": "550b1f4e",
   "metadata": {},
   "source": [
    "# Part II Answer 2: The average length of mqtt messages for each target value are as follows:\n",
    "\n",
    "1. slowite = 3.5331449684851117\n",
    "2. bruteforce = 2.9956554720364115\n",
    "3. flood = 7.491027732463295\n",
    "4. malformed = 6.263181984621018\n",
    "5. dos = 71.13934256294488\n",
    "6. legitimate = 6.515196750935254\n"
   ]
  },
  {
   "cell_type": "markdown",
   "id": "8727ea71",
   "metadata": {},
   "source": [
    "# Part II Question 3\n",
    "### Build a Python function that uses PySpark to list the most frequent X TCP flags where X is a user-provided parameter.\n",
    "#### Make sure to handle this scenario as well: if the user requests 5 most frequent TCP flags but there are 3 Flags that share the same count at rank number 5, please include all of them in your output"
   ]
  },
  {
   "cell_type": "code",
   "execution_count": 13,
   "id": "6819c87c",
   "metadata": {},
   "outputs": [
    {
     "name": "stdout",
     "output_type": "stream",
     "text": [
      "+----------+\n",
      "| tcp_flags|\n",
      "+----------+\n",
      "|0x00000004|\n",
      "|0x00000010|\n",
      "|0x00000019|\n",
      "|0x00000002|\n",
      "|0x00000012|\n",
      "|0x00000014|\n",
      "|0x00000018|\n",
      "|0x00000011|\n",
      "+----------+\n",
      "\n"
     ]
    }
   ],
   "source": [
    "df_read.select('tcp_flags').distinct().show()"
   ]
  },
  {
   "cell_type": "code",
   "execution_count": 14,
   "id": "cb745ea0",
   "metadata": {},
   "outputs": [
    {
     "name": "stdout",
     "output_type": "stream",
     "text": [
      "<class 'int'>\n",
      "8\n"
     ]
    }
   ],
   "source": [
    "print(type(df_read.select('tcp_flags').distinct().count()))\n",
    "print(df_read.select('tcp_flags').distinct().count())"
   ]
  },
  {
   "cell_type": "code",
   "execution_count": 15,
   "id": "065a6265",
   "metadata": {},
   "outputs": [
    {
     "name": "stdout",
     "output_type": "stream",
     "text": [
      "+----------+------+\n",
      "| tcp_flags| count|\n",
      "+----------+------+\n",
      "|0x00000018|183076|\n",
      "|0x00000010|134547|\n",
      "|0x00000011|  4198|\n",
      "|0x00000002|  3372|\n",
      "|0x00000012|  3372|\n",
      "|0x00000004|  1592|\n",
      "|0x00000019|   738|\n",
      "|0x00000014|    41|\n",
      "+----------+------+\n",
      "\n"
     ]
    }
   ],
   "source": [
    "from pyspark.sql.functions import desc\n",
    "grouped_df = df_read.groupBy('tcp_flags').count().orderBy(desc('count'))\n",
    "grouped_df.show()"
   ]
  },
  {
   "cell_type": "code",
   "execution_count": 16,
   "id": "d033b7c1",
   "metadata": {},
   "outputs": [],
   "source": [
    "from pyspark.sql.functions import dense_rank, desc\n",
    "from pyspark.sql.window import Window\n",
    "\n",
    "def get_X_most_frequent_tcp_flags(x):\n",
    "    distinct_flags = df_read.select('tcp_flags').distinct().count()\n",
    "    if x > distinct_flags:\n",
    "        print(f\"There are only {distinct_flags} distinct TCP flags in this dataset. Showing all {distinct_flags} TCP flags ranked with dense ranking.\")\n",
    "        x = distinct_flags\n",
    "    window_spec = Window.partitionBy().orderBy(desc('count'))\n",
    "    ranked_df = grouped_df.withColumn(\"dense_rank\", dense_rank().over(window_spec))\n",
    "    result = ranked_df.filter(col(\"dense_rank\") <= x)\n",
    "    result.show()\n",
    "\n"
   ]
  },
  {
   "cell_type": "markdown",
   "id": "5b9f245d",
   "metadata": {},
   "source": [
    "# Part II Answer 3: The above function uses PySpark to list the x most frequent functions and also includes ties if they occur at the xth entry. Sample output below for x = 4, which is a tie case. \n",
    "\n",
    "### NOTE: The warning can be ignored in this case. We do not want to partition the data as we are trying to rank all of the tcp flags against one another with respect to their count. Partitioning would end up comparing each tcp flag type to itslef and thus result in all of them being ranked as 1.  "
   ]
  },
  {
   "cell_type": "code",
   "execution_count": 17,
   "id": "6011e00a",
   "metadata": {
    "scrolled": false
   },
   "outputs": [
    {
     "name": "stderr",
     "output_type": "stream",
     "text": [
      "23/10/09 11:32:34 WARN WindowExec: No Partition Defined for Window operation! Moving all data to a single partition, this can cause serious performance degradation.\n",
      "23/10/09 11:32:34 WARN WindowExec: No Partition Defined for Window operation! Moving all data to a single partition, this can cause serious performance degradation.\n",
      "23/10/09 11:32:34 WARN WindowExec: No Partition Defined for Window operation! Moving all data to a single partition, this can cause serious performance degradation.\n",
      "23/10/09 11:32:34 WARN WindowExec: No Partition Defined for Window operation! Moving all data to a single partition, this can cause serious performance degradation.\n",
      "23/10/09 11:32:34 WARN WindowExec: No Partition Defined for Window operation! Moving all data to a single partition, this can cause serious performance degradation.\n",
      "23/10/09 11:32:34 WARN WindowExec: No Partition Defined for Window operation! Moving all data to a single partition, this can cause serious performance degradation.\n",
      "23/10/09 11:32:34 WARN WindowExec: No Partition Defined for Window operation! Moving all data to a single partition, this can cause serious performance degradation.\n"
     ]
    },
    {
     "name": "stdout",
     "output_type": "stream",
     "text": [
      "+----------+------+----------+\n",
      "| tcp_flags| count|dense_rank|\n",
      "+----------+------+----------+\n",
      "|0x00000018|183076|         1|\n",
      "|0x00000010|134547|         2|\n",
      "|0x00000011|  4198|         3|\n",
      "|0x00000002|  3372|         4|\n",
      "|0x00000012|  3372|         4|\n",
      "+----------+------+----------+\n",
      "\n"
     ]
    },
    {
     "name": "stderr",
     "output_type": "stream",
     "text": [
      "23/10/09 11:32:34 WARN WindowExec: No Partition Defined for Window operation! Moving all data to a single partition, this can cause serious performance degradation.\n",
      "23/10/09 11:32:34 WARN WindowExec: No Partition Defined for Window operation! Moving all data to a single partition, this can cause serious performance degradation.\n"
     ]
    }
   ],
   "source": [
    "get_X_most_frequent_tcp_flags(4)"
   ]
  },
  {
   "cell_type": "markdown",
   "id": "9040b98d",
   "metadata": {},
   "source": [
    "# Part II Question 4\n",
    "### Among the listed targets, what is the most popular target on Google News? (Use 5-minutes Google News feed to justify your answer).\n",
    "1. Use this query: https://news.google.com/rss/search?q=popular+cyber+attacks \n",
    "<br>\n",
    "<br>\n",
    "2. You may find yourself in need to decrypt the target values in the dataset to proper English equivalent. For example, “bruteforce” to “brute force”.  "
   ]
  },
  {
   "cell_type": "code",
   "execution_count": 18,
   "id": "690eb072",
   "metadata": {},
   "outputs": [
    {
     "name": "stdout",
     "output_type": "stream",
     "text": [
      "+----------+\n",
      "|    target|\n",
      "+----------+\n",
      "|   slowite|\n",
      "|bruteforce|\n",
      "|     flood|\n",
      "| malformed|\n",
      "|       dos|\n",
      "|legitimate|\n",
      "+----------+\n",
      "\n"
     ]
    }
   ],
   "source": [
    "df_read.select('target').distinct().show()"
   ]
  },
  {
   "cell_type": "markdown",
   "id": "7c2e44dc",
   "metadata": {},
   "source": [
    "### Need to split the following words:\n",
    "1. bruteforce -> brute force"
   ]
  },
  {
   "cell_type": "code",
   "execution_count": 19,
   "id": "a4893568",
   "metadata": {},
   "outputs": [
    {
     "name": "stdout",
     "output_type": "stream",
     "text": [
      "330936\n"
     ]
    }
   ],
   "source": [
    "import numpy as np\n",
    "print(len(df_read.select('target').collect()))\n",
    "unique_target_type =[]\n",
    "for i in range(len(df_read.select('target').distinct().collect())):\n",
    "    unique_target_type.append(df_read.select('target').distinct().collect()[i][0])"
   ]
  },
  {
   "cell_type": "code",
   "execution_count": 20,
   "id": "11398813",
   "metadata": {},
   "outputs": [
    {
     "name": "stdout",
     "output_type": "stream",
     "text": [
      "['slowite', 'bruteforce', 'flood', 'malformed', 'dos', 'legitimate']\n"
     ]
    }
   ],
   "source": [
    "print(unique_target_type)"
   ]
  },
  {
   "cell_type": "code",
   "execution_count": 21,
   "id": "44e67033",
   "metadata": {},
   "outputs": [],
   "source": [
    "unique_target_type.append(\"brute force\")"
   ]
  },
  {
   "cell_type": "code",
   "execution_count": 22,
   "id": "b3c879d5",
   "metadata": {},
   "outputs": [
    {
     "name": "stdout",
     "output_type": "stream",
     "text": [
      "['slowite', 'bruteforce', 'flood', 'malformed', 'dos', 'legitimate', 'brute force']\n"
     ]
    }
   ],
   "source": [
    "print(unique_target_type)"
   ]
  },
  {
   "cell_type": "code",
   "execution_count": 30,
   "id": "6ad30f58",
   "metadata": {},
   "outputs": [],
   "source": [
    "unique_target_type.append(\"cyber\")"
   ]
  },
  {
   "cell_type": "code",
   "execution_count": 31,
   "id": "2aca913a",
   "metadata": {},
   "outputs": [
    {
     "name": "stdout",
     "output_type": "stream",
     "text": [
      "['slowite', 'bruteforce', 'flood', 'malformed', 'dos', 'legitimate', 'brute force', 'cyber']\n"
     ]
    }
   ],
   "source": [
    "print(unique_target_type)"
   ]
  },
  {
   "cell_type": "markdown",
   "id": "f9858926",
   "metadata": {},
   "source": [
    "## Create Consumer and Producer\n",
    "#### NOTE: Producer is run in a seperate notebook, but the code for it is included here as a comment. "
   ]
  },
  {
   "cell_type": "markdown",
   "id": "0eaec1f6",
   "metadata": {},
   "source": [
    "### Kafka Config"
   ]
  },
  {
   "cell_type": "code",
   "execution_count": 23,
   "id": "67a54a41",
   "metadata": {},
   "outputs": [
    {
     "name": "stdout",
     "output_type": "stream",
     "text": [
      "done\n"
     ]
    },
    {
     "name": "stderr",
     "output_type": "stream",
     "text": [
      "%4|1696865584.803|CONFWARN|chads-mbp-4.wifi.local.cmu.edu#producer-1| [thrd:app]: Configuration property group.id is a consumer property and will be ignored by this producer instance\n",
      "%4|1696865584.803|CONFWARN|chads-mbp-4.wifi.local.cmu.edu#producer-1| [thrd:app]: Configuration property session.timeout.ms is a consumer property and will be ignored by this producer instance\n",
      "%4|1696865584.803|CONFWARN|chads-mbp-4.wifi.local.cmu.edu#producer-1| [thrd:app]: Configuration property auto.offset.reset is a consumer property and will be ignored by this producer instance\n"
     ]
    }
   ],
   "source": [
    "from confluent_kafka import Producer\n",
    "import socket\n",
    "#Initialize Your Parameters here - Keep the variable values as is for the ones you can't find on the Confluent-Kafka connection \n",
    "KAFKA_CONFIG = {\n",
    "    \"bootstrap.servers\":\"pkc-lzvrd.us-west4.gcp.confluent.cloud:9092\", #Add server it gives you\n",
    "    \"security.protocol\":\"SASL_SSL\",\n",
    "    \"sasl.mechanisms\":\"PLAIN\",\n",
    "    \"sasl.username\":\"KPCWQU76CLNVNZTT\", #Add username given on site\n",
    "    \"sasl.password\":\"6jL00qPsdQ7PzmXuVhZm+jGtFyLu9vw26a1s8oEPJv93Dlvlk8dvkyKAT0v/1wR9\", #Add password given on site\n",
    "    \"session.timeout.ms\":\"45000\",\n",
    "    \"group.id\":\"python-group-1\",    \n",
    "    'auto.offset.reset': 'smallest',\n",
    "    'client.id': socket.gethostname()\n",
    "}\n",
    "\n",
    "# Update your topic name\n",
    "topic_name = \"topic_0\" #Add topic given on site\n",
    "producer = Producer(KAFKA_CONFIG)\n",
    "print(\"done\")"
   ]
  },
  {
   "cell_type": "markdown",
   "id": "57e360f2",
   "metadata": {},
   "source": [
    "### Producer (runs in seperate notebook)"
   ]
  },
  {
   "cell_type": "code",
   "execution_count": 24,
   "id": "e55714ca",
   "metadata": {},
   "outputs": [],
   "source": [
    "# import feedparser\n",
    "# import time\n",
    "# start_time = time.time()\n",
    "# # We are searching for Analytics in the news\n",
    "# feed_url = \"https://news.google.com/rss/search?q=popular+cyber+attacks\"\n",
    "# def extract_news_feed(feed_url):\n",
    "#     feed = feedparser.parse(feed_url)\n",
    "#     articles = []\n",
    "#     extracted_articles = set()\n",
    "#     start_time = time.time()\n",
    "#     while time.time() < (start_time + 60 * 5):  #Newsfeed for 5 Minutes\n",
    "#         for entry in feed.entries:\n",
    "#             link = entry.link\n",
    "#             title = entry.title.encode('ascii', 'ignore').decode()\n",
    "#             unique_id = f'{link}-{title}'\n",
    "#             if unique_id in extracted_articles:\n",
    "#                 continue\n",
    "#             extracted_articles.add(unique_id)\n",
    "#             article_data = {\"title\": title, \"link\":link}\n",
    "#             if article_data is not None:\n",
    "#                 producer.produce(topic_name, key=article_data[\"title\"], value=article_data[\"link\"])\n",
    "#         producer.flush()\n",
    "\n",
    "    \n",
    "# extract_news_feed(feed_url)"
   ]
  },
  {
   "cell_type": "markdown",
   "id": "6e04045a",
   "metadata": {},
   "source": [
    "### Consumer"
   ]
  },
  {
   "cell_type": "code",
   "execution_count": 28,
   "id": "1b1680c7",
   "metadata": {
    "scrolled": false
   },
   "outputs": [
    {
     "name": "stdout",
     "output_type": "stream",
     "text": [
      "+---+-----+\n",
      "|key|value|\n",
      "+---+-----+\n",
      "+---+-----+\n",
      "\n",
      "Waiting...\n",
      "Waiting...\n",
      "Waiting...\n",
      "Waiting...\n",
      "Waiting...\n",
      "Waiting...\n",
      "Waiting...\n",
      "Waiting...\n",
      "Waiting...\n",
      "Waiting...\n",
      "Waiting...\n",
      "Waiting...\n",
      "Waiting...\n",
      "Waiting...\n",
      "Waiting...\n",
      "Waiting...\n",
      "Waiting...\n",
      "Waiting...\n",
      "Waiting...\n",
      "Waiting...\n",
      "Waiting...\n",
      "Waiting...\n",
      "Waiting...\n",
      "Waiting...\n",
      "Waiting...\n",
      "Waiting...\n",
      "Waiting...\n",
      "Waiting...\n",
      "Waiting...\n",
      "Waiting...\n",
      "Waiting...\n",
      "Waiting...\n",
      "Waiting...\n",
      "Waiting...\n",
      "Waiting...\n",
      "Waiting...\n",
      "Waiting...\n",
      "Waiting...\n",
      "Waiting...\n",
      "Waiting...\n",
      "Waiting...\n",
      "Waiting...\n",
      "Waiting...\n",
      "Waiting...\n",
      "Waiting...\n",
      "Waiting...\n",
      "Waiting...\n",
      "Waiting...\n",
      "Waiting...\n",
      "Waiting...\n",
      "Waiting...\n",
      "Waiting...\n",
      "Waiting...\n",
      "Waiting...\n",
      "Waiting...\n",
      "Waiting...\n",
      "Waiting...\n",
      "Waiting...\n",
      "Waiting...\n",
      "Waiting...\n",
      "Waiting...\n",
      "Waiting...\n",
      "Waiting...\n",
      "Waiting...\n",
      "Waiting...\n",
      "Waiting...\n",
      "Waiting...\n",
      "Waiting...\n",
      "Waiting...\n",
      "Waiting...\n",
      "Waiting...\n",
      "Waiting...\n",
      "Waiting...\n",
      "Waiting...\n",
      "Waiting...\n",
      "Waiting...\n",
      "Waiting...\n",
      "Waiting...\n",
      "Waiting...\n",
      "Waiting...\n",
      "Waiting...\n",
      "Waiting...\n",
      "Waiting...\n",
      "Waiting...\n",
      "Waiting...\n",
      "Waiting...\n",
      "Waiting...\n",
      "Waiting...\n",
      "Waiting...\n",
      "Waiting...\n",
      "Waiting...\n",
      "Waiting...\n",
      "Waiting...\n",
      "Waiting...\n",
      "Waiting...\n",
      "Waiting...\n",
      "Waiting...\n",
      "Waiting...\n",
      "Waiting...\n",
      "Waiting...\n",
      "Waiting...\n",
      "Waiting...\n",
      "Waiting...\n",
      "Waiting...\n",
      "Waiting...\n",
      "Waiting...\n",
      "Waiting...\n",
      "Waiting...\n",
      "Waiting...\n",
      "Waiting...\n",
      "Waiting...\n",
      "Waiting...\n",
      "Waiting...\n",
      "Waiting...\n",
      "Waiting...\n",
      "Waiting...\n",
      "Waiting...\n",
      "Waiting...\n",
      "Waiting...\n",
      "Waiting...\n"
     ]
    },
    {
     "name": "stderr",
     "output_type": "stream",
     "text": [
      "\r\n",
      "                                                                                \r"
     ]
    },
    {
     "name": "stdout",
     "output_type": "stream",
     "text": [
      "+--------------------+--------------------+\n",
      "|                 key|               value|\n",
      "+--------------------+--------------------+\n",
      "|gazalinked cyber ...|https://news.goog...|\n",
      "|healthcare top in...|https://news.goog...|\n",
      "|cloud attacks top...|https://news.goog...|\n",
      "|cisos watch out t...|https://news.goog...|\n",
      "|us healthcare ind...|https://news.goog...|\n",
      "|isro fights over ...|https://news.goog...|\n",
      "|germany is failin...|https://news.goog...|\n",
      "|security analytic...|https://news.goog...|\n",
      "|canadian organiza...|https://news.goog...|\n",
      "|rising cyberattac...|https://news.goog...|\n",
      "|cyber insurers in...|https://news.goog...|\n",
      "|the top five cybe...|https://news.goog...|\n",
      "|the biggest cyber...|https://news.goog...|\n",
      "|aggressive china ...|https://news.goog...|\n",
      "|cyber security br...|https://news.goog...|\n",
      "|cybersecurity tre...|https://news.goog...|\n",
      "|us no major cyber...|https://news.goog...|\n",
      "|how to stay safe ...|https://news.goog...|\n",
      "|mgm expects 100 m...|https://news.goog...|\n",
      "|kaspersky identif...|https://news.goog...|\n",
      "+--------------------+--------------------+\n",
      "only showing top 20 rows\n",
      "\n"
     ]
    },
    {
     "name": "stderr",
     "output_type": "stream",
     "text": [
      "\r\n",
      "[Stage 87:============================================>           (16 + 1) / 20]\r\n",
      "\r\n",
      "                                                                                \r"
     ]
    }
   ],
   "source": [
    "from confluent_kafka import Consumer\n",
    "from pyspark.sql.types import *\n",
    "import string\n",
    "\n",
    "\n",
    "# Clean the punctation by making a translation table that maps punctations to empty strings\n",
    "translator = str.maketrans(\"\", \"\", string.punctuation)\n",
    "\n",
    "\n",
    "emp_RDD = spark.sparkContext.emptyRDD()\n",
    "# Defining the schema of the DataFrame\n",
    "columns = StructType([StructField('key', StringType(), False),\n",
    "                      StructField('value', StringType(), False)])\n",
    "\n",
    "# Creating an empty DataFrame\n",
    "df = spark.createDataFrame(data=emp_RDD,\n",
    "                                   schema=columns)\n",
    " \n",
    "# Printing the DataFrame with no data\n",
    "df.show()\n",
    "\n",
    "consumer = Consumer(KAFKA_CONFIG)\n",
    "consumer.subscribe([topic_name])\n",
    "\n",
    "\n",
    "try:\n",
    "    i = 0\n",
    "    while i < 120:\n",
    "        msg = consumer.poll(timeout=1.0)\n",
    "        if msg is None:\n",
    "            i = i + 1\n",
    "            print(\"Waiting...\")\n",
    "            continue\n",
    "        if msg is not None:\n",
    "            key = msg.key().decode('utf-8').lower().translate(translator)\n",
    "            cleaned_key = \" \".join(key.split())\n",
    "            value = msg.value().decode('utf-8')\n",
    "            added_row = [[cleaned_key,value]]\n",
    "            added_df = spark.createDataFrame(added_row, columns)\n",
    "            df = df.union(added_df)\n",
    "\n",
    "except KeyboardInterrupt:\n",
    "    pass\n",
    "finally:\n",
    "    consumer.close()\n",
    "    df.show()"
   ]
  },
  {
   "cell_type": "markdown",
   "id": "17fd4556",
   "metadata": {},
   "source": [
    "### Search the data for our target words"
   ]
  },
  {
   "cell_type": "code",
   "execution_count": 32,
   "id": "5d033a98",
   "metadata": {},
   "outputs": [
    {
     "name": "stderr",
     "output_type": "stream",
     "text": [
      "[Stage 89:====================================================>   (93 + 1) / 99]\r"
     ]
    },
    {
     "name": "stdout",
     "output_type": "stream",
     "text": [
      "+-----+-----+\n",
      "| word|count|\n",
      "+-----+-----+\n",
      "|cyber|   74|\n",
      "+-----+-----+\n",
      "\n"
     ]
    },
    {
     "name": "stderr",
     "output_type": "stream",
     "text": [
      "\r\n",
      "[Stage 89:=======================================================>(98 + 1) / 99]\r\n",
      "\r\n",
      "                                                                                \r"
     ]
    }
   ],
   "source": [
    "from pyspark.sql.functions import *\n",
    "\n",
    "\n",
    "streamed_data = df.withColumn('word', explode(split(col('key'), ' '))) \\\n",
    "                .filter(col('word').isin(unique_target_type)) \\\n",
    "                .groupBy('word') \\\n",
    "                .count() \\\n",
    "                .sort('count', ascending=False)\n",
    "    \n",
    "streamed_data.show()"
   ]
  },
  {
   "cell_type": "code",
   "execution_count": 33,
   "id": "df97f4af",
   "metadata": {},
   "outputs": [
    {
     "name": "stderr",
     "output_type": "stream",
     "text": [
      "                                                                                \r"
     ]
    },
    {
     "data": {
      "image/png": "[encoded data removed]",
      "text/plain": [
       "<Figure size 2000x1500 with 1 Axes>"
      ]
     },
     "metadata": {},
     "output_type": "display_data"
    }
   ],
   "source": [
    "import matplotlib.pyplot as plt\n",
    "import seaborn as sns\n",
    "protocol_hits = streamed_data.orderBy(\"count\",ascending=False).limit(7).toPandas()\n",
    "plt.figure( figsize = ( 20, 15 ) )\n",
    "sns.barplot( x=\"word\", y=\"count\", data=protocol_hits)\n",
    "plt.show()"
   ]
  },
  {
   "cell_type": "code",
   "execution_count": null,
   "id": "655100da",
   "metadata": {},
   "outputs": [],
   "source": []
  }
 ],
 "metadata": {
  "kernelspec": {
   "display_name": "Python 3 (ipykernel)",
   "language": "python",
   "name": "python3"
  },
  "language_info": {
   "codemirror_mode": {
    "name": "ipython",
    "version": 3
   },
   "file_extension": ".py",
   "mimetype": "text/x-python",
   "name": "python",
   "nbconvert_exporter": "python",
   "pygments_lexer": "ipython3",
   "version": "3.9.17"
  }
 },
 "nbformat": 4,
 "nbformat_minor": 5
}
